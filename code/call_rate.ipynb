{
  "nbformat": 4,
  "nbformat_minor": 0,
  "metadata": {
    "colab": {
      "name": "call_rate.ipynb",
      "provenance": [],
      "collapsed_sections": [],
      "toc_visible": true,
      "mount_file_id": "1OPTzIgw8QLbtgrIZNr0_OCIPxuEas8ga",
      "authorship_tag": "ABX9TyPn114bdgHpbddeu3b6GY0g",
      "include_colab_link": true
    },
    "kernelspec": {
      "name": "python3",
      "display_name": "Python 3"
    },
    "widgets": {
      "application/vnd.jupyter.widget-state+json": {
        "2066e036be0c4451a9ee112d54fa753f": {
          "model_module": "@jupyter-widgets/controls",
          "model_name": "HBoxModel",
          "state": {
            "_view_name": "HBoxView",
            "_dom_classes": [],
            "_model_name": "HBoxModel",
            "_view_module": "@jupyter-widgets/controls",
            "_model_module_version": "1.5.0",
            "_view_count": null,
            "_view_module_version": "1.5.0",
            "box_style": "",
            "layout": "IPY_MODEL_a45fcfdbf3af49f99b0e9c6b057f6bc1",
            "_model_module": "@jupyter-widgets/controls",
            "children": [
              "IPY_MODEL_4d1f97ecdfee4597903df131ea9618f3",
              "IPY_MODEL_66acb344e2194dad8cbafd1e6629a421"
            ]
          }
        },
        "a45fcfdbf3af49f99b0e9c6b057f6bc1": {
          "model_module": "@jupyter-widgets/base",
          "model_name": "LayoutModel",
          "state": {
            "_view_name": "LayoutView",
            "grid_template_rows": null,
            "right": null,
            "justify_content": null,
            "_view_module": "@jupyter-widgets/base",
            "overflow": null,
            "_model_module_version": "1.2.0",
            "_view_count": null,
            "flex_flow": null,
            "width": null,
            "min_width": null,
            "border": null,
            "align_items": null,
            "bottom": null,
            "_model_module": "@jupyter-widgets/base",
            "top": null,
            "grid_column": null,
            "overflow_y": null,
            "overflow_x": null,
            "grid_auto_flow": null,
            "grid_area": null,
            "grid_template_columns": null,
            "flex": null,
            "_model_name": "LayoutModel",
            "justify_items": null,
            "grid_row": null,
            "max_height": null,
            "align_content": null,
            "visibility": null,
            "align_self": null,
            "height": null,
            "min_height": null,
            "padding": null,
            "grid_auto_rows": null,
            "grid_gap": null,
            "max_width": null,
            "order": null,
            "_view_module_version": "1.2.0",
            "grid_template_areas": null,
            "object_position": null,
            "object_fit": null,
            "grid_auto_columns": null,
            "margin": null,
            "display": null,
            "left": null
          }
        },
        "4d1f97ecdfee4597903df131ea9618f3": {
          "model_module": "@jupyter-widgets/controls",
          "model_name": "FloatProgressModel",
          "state": {
            "_view_name": "ProgressView",
            "style": "IPY_MODEL_c54b3d0aca9045d7b2b3e2f79011c9e6",
            "_dom_classes": [],
            "description": "100%",
            "_model_name": "FloatProgressModel",
            "bar_style": "success",
            "max": 454,
            "_view_module": "@jupyter-widgets/controls",
            "_model_module_version": "1.5.0",
            "value": 454,
            "_view_count": null,
            "_view_module_version": "1.5.0",
            "orientation": "horizontal",
            "min": 0,
            "description_tooltip": null,
            "_model_module": "@jupyter-widgets/controls",
            "layout": "IPY_MODEL_9e2ef66041e940af82d16be46c09bbdf"
          }
        },
        "66acb344e2194dad8cbafd1e6629a421": {
          "model_module": "@jupyter-widgets/controls",
          "model_name": "HTMLModel",
          "state": {
            "_view_name": "HTMLView",
            "style": "IPY_MODEL_112770d0f31e49ef942c27263a8636be",
            "_dom_classes": [],
            "description": "",
            "_model_name": "HTMLModel",
            "placeholder": "​",
            "_view_module": "@jupyter-widgets/controls",
            "_model_module_version": "1.5.0",
            "value": " 454/454 [08:57&lt;00:00,  1.18s/it]",
            "_view_count": null,
            "_view_module_version": "1.5.0",
            "description_tooltip": null,
            "_model_module": "@jupyter-widgets/controls",
            "layout": "IPY_MODEL_cbc06e32e9444dc4bba4769ce5e94fc9"
          }
        },
        "c54b3d0aca9045d7b2b3e2f79011c9e6": {
          "model_module": "@jupyter-widgets/controls",
          "model_name": "ProgressStyleModel",
          "state": {
            "_view_name": "StyleView",
            "_model_name": "ProgressStyleModel",
            "description_width": "initial",
            "_view_module": "@jupyter-widgets/base",
            "_model_module_version": "1.5.0",
            "_view_count": null,
            "_view_module_version": "1.2.0",
            "bar_color": null,
            "_model_module": "@jupyter-widgets/controls"
          }
        },
        "9e2ef66041e940af82d16be46c09bbdf": {
          "model_module": "@jupyter-widgets/base",
          "model_name": "LayoutModel",
          "state": {
            "_view_name": "LayoutView",
            "grid_template_rows": null,
            "right": null,
            "justify_content": null,
            "_view_module": "@jupyter-widgets/base",
            "overflow": null,
            "_model_module_version": "1.2.0",
            "_view_count": null,
            "flex_flow": null,
            "width": null,
            "min_width": null,
            "border": null,
            "align_items": null,
            "bottom": null,
            "_model_module": "@jupyter-widgets/base",
            "top": null,
            "grid_column": null,
            "overflow_y": null,
            "overflow_x": null,
            "grid_auto_flow": null,
            "grid_area": null,
            "grid_template_columns": null,
            "flex": null,
            "_model_name": "LayoutModel",
            "justify_items": null,
            "grid_row": null,
            "max_height": null,
            "align_content": null,
            "visibility": null,
            "align_self": null,
            "height": null,
            "min_height": null,
            "padding": null,
            "grid_auto_rows": null,
            "grid_gap": null,
            "max_width": null,
            "order": null,
            "_view_module_version": "1.2.0",
            "grid_template_areas": null,
            "object_position": null,
            "object_fit": null,
            "grid_auto_columns": null,
            "margin": null,
            "display": null,
            "left": null
          }
        },
        "112770d0f31e49ef942c27263a8636be": {
          "model_module": "@jupyter-widgets/controls",
          "model_name": "DescriptionStyleModel",
          "state": {
            "_view_name": "StyleView",
            "_model_name": "DescriptionStyleModel",
            "description_width": "",
            "_view_module": "@jupyter-widgets/base",
            "_model_module_version": "1.5.0",
            "_view_count": null,
            "_view_module_version": "1.2.0",
            "_model_module": "@jupyter-widgets/controls"
          }
        },
        "cbc06e32e9444dc4bba4769ce5e94fc9": {
          "model_module": "@jupyter-widgets/base",
          "model_name": "LayoutModel",
          "state": {
            "_view_name": "LayoutView",
            "grid_template_rows": null,
            "right": null,
            "justify_content": null,
            "_view_module": "@jupyter-widgets/base",
            "overflow": null,
            "_model_module_version": "1.2.0",
            "_view_count": null,
            "flex_flow": null,
            "width": null,
            "min_width": null,
            "border": null,
            "align_items": null,
            "bottom": null,
            "_model_module": "@jupyter-widgets/base",
            "top": null,
            "grid_column": null,
            "overflow_y": null,
            "overflow_x": null,
            "grid_auto_flow": null,
            "grid_area": null,
            "grid_template_columns": null,
            "flex": null,
            "_model_name": "LayoutModel",
            "justify_items": null,
            "grid_row": null,
            "max_height": null,
            "align_content": null,
            "visibility": null,
            "align_self": null,
            "height": null,
            "min_height": null,
            "padding": null,
            "grid_auto_rows": null,
            "grid_gap": null,
            "max_width": null,
            "order": null,
            "_view_module_version": "1.2.0",
            "grid_template_areas": null,
            "object_position": null,
            "object_fit": null,
            "grid_auto_columns": null,
            "margin": null,
            "display": null,
            "left": null
          }
        },
        "3a85ba86ef0046848cd98ae588ea1400": {
          "model_module": "@jupyter-widgets/controls",
          "model_name": "HBoxModel",
          "state": {
            "_view_name": "HBoxView",
            "_dom_classes": [],
            "_model_name": "HBoxModel",
            "_view_module": "@jupyter-widgets/controls",
            "_model_module_version": "1.5.0",
            "_view_count": null,
            "_view_module_version": "1.5.0",
            "box_style": "",
            "layout": "IPY_MODEL_41b206ff30c64b5da59ae5f4f141cc7c",
            "_model_module": "@jupyter-widgets/controls",
            "children": [
              "IPY_MODEL_cf89077b1919481dac78113cc4d07732",
              "IPY_MODEL_2eb0ad75232049a88dda5c1fb7315d70"
            ]
          }
        },
        "41b206ff30c64b5da59ae5f4f141cc7c": {
          "model_module": "@jupyter-widgets/base",
          "model_name": "LayoutModel",
          "state": {
            "_view_name": "LayoutView",
            "grid_template_rows": null,
            "right": null,
            "justify_content": null,
            "_view_module": "@jupyter-widgets/base",
            "overflow": null,
            "_model_module_version": "1.2.0",
            "_view_count": null,
            "flex_flow": null,
            "width": null,
            "min_width": null,
            "border": null,
            "align_items": null,
            "bottom": null,
            "_model_module": "@jupyter-widgets/base",
            "top": null,
            "grid_column": null,
            "overflow_y": null,
            "overflow_x": null,
            "grid_auto_flow": null,
            "grid_area": null,
            "grid_template_columns": null,
            "flex": null,
            "_model_name": "LayoutModel",
            "justify_items": null,
            "grid_row": null,
            "max_height": null,
            "align_content": null,
            "visibility": null,
            "align_self": null,
            "height": null,
            "min_height": null,
            "padding": null,
            "grid_auto_rows": null,
            "grid_gap": null,
            "max_width": null,
            "order": null,
            "_view_module_version": "1.2.0",
            "grid_template_areas": null,
            "object_position": null,
            "object_fit": null,
            "grid_auto_columns": null,
            "margin": null,
            "display": null,
            "left": null
          }
        },
        "cf89077b1919481dac78113cc4d07732": {
          "model_module": "@jupyter-widgets/controls",
          "model_name": "FloatProgressModel",
          "state": {
            "_view_name": "ProgressView",
            "style": "IPY_MODEL_37e17049d43a488388b245396cbfdc1a",
            "_dom_classes": [],
            "description": "100%",
            "_model_name": "FloatProgressModel",
            "bar_style": "success",
            "max": 454,
            "_view_module": "@jupyter-widgets/controls",
            "_model_module_version": "1.5.0",
            "value": 454,
            "_view_count": null,
            "_view_module_version": "1.5.0",
            "orientation": "horizontal",
            "min": 0,
            "description_tooltip": null,
            "_model_module": "@jupyter-widgets/controls",
            "layout": "IPY_MODEL_d9e989f22d1440acaad1129afcdf2b64"
          }
        },
        "2eb0ad75232049a88dda5c1fb7315d70": {
          "model_module": "@jupyter-widgets/controls",
          "model_name": "HTMLModel",
          "state": {
            "_view_name": "HTMLView",
            "style": "IPY_MODEL_b45b87f3c5ca4974a045d6204b6d1717",
            "_dom_classes": [],
            "description": "",
            "_model_name": "HTMLModel",
            "placeholder": "​",
            "_view_module": "@jupyter-widgets/controls",
            "_model_module_version": "1.5.0",
            "value": " 454/454 [04:27&lt;00:00,  1.69it/s]",
            "_view_count": null,
            "_view_module_version": "1.5.0",
            "description_tooltip": null,
            "_model_module": "@jupyter-widgets/controls",
            "layout": "IPY_MODEL_94c09719b07143b095af32fd66af61db"
          }
        },
        "37e17049d43a488388b245396cbfdc1a": {
          "model_module": "@jupyter-widgets/controls",
          "model_name": "ProgressStyleModel",
          "state": {
            "_view_name": "StyleView",
            "_model_name": "ProgressStyleModel",
            "description_width": "initial",
            "_view_module": "@jupyter-widgets/base",
            "_model_module_version": "1.5.0",
            "_view_count": null,
            "_view_module_version": "1.2.0",
            "bar_color": null,
            "_model_module": "@jupyter-widgets/controls"
          }
        },
        "d9e989f22d1440acaad1129afcdf2b64": {
          "model_module": "@jupyter-widgets/base",
          "model_name": "LayoutModel",
          "state": {
            "_view_name": "LayoutView",
            "grid_template_rows": null,
            "right": null,
            "justify_content": null,
            "_view_module": "@jupyter-widgets/base",
            "overflow": null,
            "_model_module_version": "1.2.0",
            "_view_count": null,
            "flex_flow": null,
            "width": null,
            "min_width": null,
            "border": null,
            "align_items": null,
            "bottom": null,
            "_model_module": "@jupyter-widgets/base",
            "top": null,
            "grid_column": null,
            "overflow_y": null,
            "overflow_x": null,
            "grid_auto_flow": null,
            "grid_area": null,
            "grid_template_columns": null,
            "flex": null,
            "_model_name": "LayoutModel",
            "justify_items": null,
            "grid_row": null,
            "max_height": null,
            "align_content": null,
            "visibility": null,
            "align_self": null,
            "height": null,
            "min_height": null,
            "padding": null,
            "grid_auto_rows": null,
            "grid_gap": null,
            "max_width": null,
            "order": null,
            "_view_module_version": "1.2.0",
            "grid_template_areas": null,
            "object_position": null,
            "object_fit": null,
            "grid_auto_columns": null,
            "margin": null,
            "display": null,
            "left": null
          }
        },
        "b45b87f3c5ca4974a045d6204b6d1717": {
          "model_module": "@jupyter-widgets/controls",
          "model_name": "DescriptionStyleModel",
          "state": {
            "_view_name": "StyleView",
            "_model_name": "DescriptionStyleModel",
            "description_width": "",
            "_view_module": "@jupyter-widgets/base",
            "_model_module_version": "1.5.0",
            "_view_count": null,
            "_view_module_version": "1.2.0",
            "_model_module": "@jupyter-widgets/controls"
          }
        },
        "94c09719b07143b095af32fd66af61db": {
          "model_module": "@jupyter-widgets/base",
          "model_name": "LayoutModel",
          "state": {
            "_view_name": "LayoutView",
            "grid_template_rows": null,
            "right": null,
            "justify_content": null,
            "_view_module": "@jupyter-widgets/base",
            "overflow": null,
            "_model_module_version": "1.2.0",
            "_view_count": null,
            "flex_flow": null,
            "width": null,
            "min_width": null,
            "border": null,
            "align_items": null,
            "bottom": null,
            "_model_module": "@jupyter-widgets/base",
            "top": null,
            "grid_column": null,
            "overflow_y": null,
            "overflow_x": null,
            "grid_auto_flow": null,
            "grid_area": null,
            "grid_template_columns": null,
            "flex": null,
            "_model_name": "LayoutModel",
            "justify_items": null,
            "grid_row": null,
            "max_height": null,
            "align_content": null,
            "visibility": null,
            "align_self": null,
            "height": null,
            "min_height": null,
            "padding": null,
            "grid_auto_rows": null,
            "grid_gap": null,
            "max_width": null,
            "order": null,
            "_view_module_version": "1.2.0",
            "grid_template_areas": null,
            "object_position": null,
            "object_fit": null,
            "grid_auto_columns": null,
            "margin": null,
            "display": null,
            "left": null
          }
        }
      }
    }
  },
  "cells": [
    {
      "cell_type": "markdown",
      "metadata": {
        "id": "view-in-github",
        "colab_type": "text"
      },
      "source": [
        "<a href=\"https://colab.research.google.com/github/EUDA289/mulcam_b_4/blob/master/call_rate.ipynb\" target=\"_parent\"><img src=\"https://colab.research.google.com/assets/colab-badge.svg\" alt=\"Open In Colab\"/></a>"
      ]
    },
    {
      "cell_type": "markdown",
      "metadata": {
        "id": "0HZwfnit6Q1E",
        "colab_type": "text"
      },
      "source": [
        "## 크롤링"
      ]
    },
    {
      "cell_type": "code",
      "metadata": {
        "id": "Z_W3ACa4SNg4",
        "colab_type": "code",
        "colab": {}
      },
      "source": [
        "import requests\n",
        "from bs4 import BeautifulSoup\n",
        "import re\n",
        "import json\n",
        "\n",
        "import pandas as pd\n",
        "import numpy as np\n",
        "from tqdm.notebook import tqdm"
      ],
      "execution_count": null,
      "outputs": []
    },
    {
      "cell_type": "code",
      "metadata": {
        "id": "p3T5lAA8SQzy",
        "colab_type": "code",
        "colab": {
          "base_uri": "https://localhost:8080/",
          "height": 116,
          "referenced_widgets": [
            "2066e036be0c4451a9ee112d54fa753f",
            "a45fcfdbf3af49f99b0e9c6b057f6bc1",
            "4d1f97ecdfee4597903df131ea9618f3",
            "66acb344e2194dad8cbafd1e6629a421",
            "c54b3d0aca9045d7b2b3e2f79011c9e6",
            "9e2ef66041e940af82d16be46c09bbdf",
            "112770d0f31e49ef942c27263a8636be",
            "cbc06e32e9444dc4bba4769ce5e94fc9",
            "3a85ba86ef0046848cd98ae588ea1400",
            "41b206ff30c64b5da59ae5f4f141cc7c",
            "cf89077b1919481dac78113cc4d07732",
            "2eb0ad75232049a88dda5c1fb7315d70",
            "37e17049d43a488388b245396cbfdc1a",
            "d9e989f22d1440acaad1129afcdf2b64",
            "b45b87f3c5ca4974a045d6204b6d1717",
            "94c09719b07143b095af32fd66af61db"
          ]
        },
        "outputId": "13cc24f4-341c-4e46-c501-24d97db2c998"
      },
      "source": [
        "call_rate={}\n",
        "date_list=[]\n",
        "rate_list=[]\n",
        "\n",
        "## 90~542\n",
        "total_page=544\n",
        "for page in tqdm(range(total_page-90)):  \n",
        "  url='https://finance.naver.com/marketindex/interestDailyQuote.nhn?marketindexCd=IRR_CALL&page={}'.format(page+90)\n",
        "  resp=requests.get(url)\n",
        "  soup=BeautifulSoup(resp.content, 'lxml')\n",
        "  date=soup.select('tbody tr td.date')\n",
        "  for i in range(7):\n",
        "    date_list.append(date[i].get_text().replace('\\n', \" \").replace('\\t', \" \").strip())\n",
        "\n",
        "for page in tqdm(range(total_page-90)):  \n",
        "  url='https://finance.naver.com/marketindex/interestDailyQuote.nhn?marketindexCd=IRR_CALL&page={}'.format(page+90)\n",
        "  resp=requests.get(url)\n",
        "  soup=BeautifulSoup(resp.content, 'lxml')\n",
        "  rate=soup.select('tbody tr td.num')\n",
        "  for i in range(0, 21, 3):\n",
        "    rate_list.append(rate[i].get_text().replace('\\n', \" \").replace('\\t', \" \").strip())"
      ],
      "execution_count": null,
      "outputs": [
        {
          "output_type": "display_data",
          "data": {
            "application/vnd.jupyter.widget-view+json": {
              "model_id": "2066e036be0c4451a9ee112d54fa753f",
              "version_minor": 0,
              "version_major": 2
            },
            "text/plain": [
              "HBox(children=(FloatProgress(value=0.0, max=454.0), HTML(value='')))"
            ]
          },
          "metadata": {
            "tags": []
          }
        },
        {
          "output_type": "stream",
          "text": [
            "\n"
          ],
          "name": "stdout"
        },
        {
          "output_type": "display_data",
          "data": {
            "application/vnd.jupyter.widget-view+json": {
              "model_id": "3a85ba86ef0046848cd98ae588ea1400",
              "version_minor": 0,
              "version_major": 2
            },
            "text/plain": [
              "HBox(children=(FloatProgress(value=0.0, max=454.0), HTML(value='')))"
            ]
          },
          "metadata": {
            "tags": []
          }
        },
        {
          "output_type": "stream",
          "text": [
            "\n"
          ],
          "name": "stdout"
        }
      ]
    },
    {
      "cell_type": "markdown",
      "metadata": {
        "id": "NMQA9u1N6U8z",
        "colab_type": "text"
      },
      "source": [
        "## 데이터프레임 만들기"
      ]
    },
    {
      "cell_type": "code",
      "metadata": {
        "id": "HEuWk_qeftRi",
        "colab_type": "code",
        "colab": {}
      },
      "source": [
        "call_rate['date']=date_list\n",
        "call_rate['rate']=rate_list\n",
        "\n",
        "call_rate_df=pd.DataFrame(call_rate)"
      ],
      "execution_count": null,
      "outputs": []
    },
    {
      "cell_type": "code",
      "metadata": {
        "id": "e2wGUAnqg1T2",
        "colab_type": "code",
        "colab": {
          "base_uri": "https://localhost:8080/",
          "height": 402
        },
        "outputId": "70421adf-5f4a-4ff6-82a1-953f91975b62"
      },
      "source": [
        "call_rate_df"
      ],
      "execution_count": null,
      "outputs": [
        {
          "output_type": "execute_result",
          "data": {
            "text/html": [
              "<div>\n",
              "<style scoped>\n",
              "    .dataframe tbody tr th:only-of-type {\n",
              "        vertical-align: middle;\n",
              "    }\n",
              "\n",
              "    .dataframe tbody tr th {\n",
              "        vertical-align: top;\n",
              "    }\n",
              "\n",
              "    .dataframe thead th {\n",
              "        text-align: right;\n",
              "    }\n",
              "</style>\n",
              "<table border=\"1\" class=\"dataframe\">\n",
              "  <thead>\n",
              "    <tr style=\"text-align: right;\">\n",
              "      <th></th>\n",
              "      <th>date</th>\n",
              "      <th>rate</th>\n",
              "    </tr>\n",
              "  </thead>\n",
              "  <tbody>\n",
              "    <tr>\n",
              "      <th>0</th>\n",
              "      <td>2018.01.11</td>\n",
              "      <td>1.50</td>\n",
              "    </tr>\n",
              "    <tr>\n",
              "      <th>1</th>\n",
              "      <td>2018.01.10</td>\n",
              "      <td>1.51</td>\n",
              "    </tr>\n",
              "    <tr>\n",
              "      <th>2</th>\n",
              "      <td>2018.01.09</td>\n",
              "      <td>1.49</td>\n",
              "    </tr>\n",
              "    <tr>\n",
              "      <th>3</th>\n",
              "      <td>2018.01.08</td>\n",
              "      <td>1.46</td>\n",
              "    </tr>\n",
              "    <tr>\n",
              "      <th>4</th>\n",
              "      <td>2018.01.05</td>\n",
              "      <td>1.47</td>\n",
              "    </tr>\n",
              "    <tr>\n",
              "      <th>...</th>\n",
              "      <td>...</td>\n",
              "      <td>...</td>\n",
              "    </tr>\n",
              "    <tr>\n",
              "      <th>3173</th>\n",
              "      <td>2005.04.07</td>\n",
              "      <td>3.23</td>\n",
              "    </tr>\n",
              "    <tr>\n",
              "      <th>3174</th>\n",
              "      <td>2005.04.06</td>\n",
              "      <td>3.23</td>\n",
              "    </tr>\n",
              "    <tr>\n",
              "      <th>3175</th>\n",
              "      <td>2005.04.04</td>\n",
              "      <td>3.24</td>\n",
              "    </tr>\n",
              "    <tr>\n",
              "      <th>3176</th>\n",
              "      <td>2005.04.01</td>\n",
              "      <td>3.25</td>\n",
              "    </tr>\n",
              "    <tr>\n",
              "      <th>3177</th>\n",
              "      <td>2005.03.31</td>\n",
              "      <td>3.26</td>\n",
              "    </tr>\n",
              "  </tbody>\n",
              "</table>\n",
              "<p>3178 rows × 2 columns</p>\n",
              "</div>"
            ],
            "text/plain": [
              "            date  rate\n",
              "0     2018.01.11  1.50\n",
              "1     2018.01.10  1.51\n",
              "2     2018.01.09  1.49\n",
              "3     2018.01.08  1.46\n",
              "4     2018.01.05  1.47\n",
              "...          ...   ...\n",
              "3173  2005.04.07  3.23\n",
              "3174  2005.04.06  3.23\n",
              "3175  2005.04.04  3.24\n",
              "3176  2005.04.01  3.25\n",
              "3177  2005.03.31  3.26\n",
              "\n",
              "[3178 rows x 2 columns]"
            ]
          },
          "metadata": {
            "tags": []
          },
          "execution_count": 431
        }
      ]
    },
    {
      "cell_type": "code",
      "metadata": {
        "id": "dxq5iAJJhm9R",
        "colab_type": "code",
        "colab": {
          "base_uri": "https://localhost:8080/",
          "height": 175
        },
        "outputId": "3f3a3870-1ba9-4669-9ffb-90904f117f4d"
      },
      "source": [
        "call_rate_df.info()"
      ],
      "execution_count": null,
      "outputs": [
        {
          "output_type": "stream",
          "text": [
            "<class 'pandas.core.frame.DataFrame'>\n",
            "RangeIndex: 3178 entries, 0 to 3177\n",
            "Data columns (total 2 columns):\n",
            " #   Column  Non-Null Count  Dtype \n",
            "---  ------  --------------  ----- \n",
            " 0   date    3178 non-null   object\n",
            " 1   rate    3178 non-null   object\n",
            "dtypes: object(2)\n",
            "memory usage: 49.8+ KB\n"
          ],
          "name": "stdout"
        }
      ]
    },
    {
      "cell_type": "code",
      "metadata": {
        "id": "N3511827oCdB",
        "colab_type": "code",
        "colab": {}
      },
      "source": [
        "call_rate_df['date']=pd.to_datetime(call_rate_df['date'])"
      ],
      "execution_count": null,
      "outputs": []
    },
    {
      "cell_type": "code",
      "metadata": {
        "id": "OfRTFak8dD4P",
        "colab_type": "code",
        "colab": {}
      },
      "source": [
        "call_rate_df['rate']=call_rate_df['rate'].astype(str).astype(float)"
      ],
      "execution_count": null,
      "outputs": []
    },
    {
      "cell_type": "code",
      "metadata": {
        "id": "1T9LKMCZwH9t",
        "colab_type": "code",
        "colab": {
          "base_uri": "https://localhost:8080/",
          "height": 175
        },
        "outputId": "52d7eb2a-e07a-4521-c93e-b21d25991b32"
      },
      "source": [
        "call_rate_df.info()"
      ],
      "execution_count": null,
      "outputs": [
        {
          "output_type": "stream",
          "text": [
            "<class 'pandas.core.frame.DataFrame'>\n",
            "RangeIndex: 3178 entries, 0 to 3177\n",
            "Data columns (total 2 columns):\n",
            " #   Column  Non-Null Count  Dtype         \n",
            "---  ------  --------------  -----         \n",
            " 0   date    3178 non-null   datetime64[ns]\n",
            " 1   rate    3178 non-null   float64       \n",
            "dtypes: datetime64[ns](1), float64(1)\n",
            "memory usage: 49.8 KB\n"
          ],
          "name": "stdout"
        }
      ]
    },
    {
      "cell_type": "code",
      "metadata": {
        "id": "g_vlSMtqz6tV",
        "colab_type": "code",
        "colab": {
          "base_uri": "https://localhost:8080/",
          "height": 639
        },
        "outputId": "5fc0ad35-f16d-417a-9047-a2c5cda9b404"
      },
      "source": [
        "call_rate_df.head(20)"
      ],
      "execution_count": null,
      "outputs": [
        {
          "output_type": "execute_result",
          "data": {
            "text/html": [
              "<div>\n",
              "<style scoped>\n",
              "    .dataframe tbody tr th:only-of-type {\n",
              "        vertical-align: middle;\n",
              "    }\n",
              "\n",
              "    .dataframe tbody tr th {\n",
              "        vertical-align: top;\n",
              "    }\n",
              "\n",
              "    .dataframe thead th {\n",
              "        text-align: right;\n",
              "    }\n",
              "</style>\n",
              "<table border=\"1\" class=\"dataframe\">\n",
              "  <thead>\n",
              "    <tr style=\"text-align: right;\">\n",
              "      <th></th>\n",
              "      <th>date</th>\n",
              "      <th>rate</th>\n",
              "    </tr>\n",
              "  </thead>\n",
              "  <tbody>\n",
              "    <tr>\n",
              "      <th>0</th>\n",
              "      <td>2018-01-11</td>\n",
              "      <td>1.50</td>\n",
              "    </tr>\n",
              "    <tr>\n",
              "      <th>1</th>\n",
              "      <td>2018-01-10</td>\n",
              "      <td>1.51</td>\n",
              "    </tr>\n",
              "    <tr>\n",
              "      <th>2</th>\n",
              "      <td>2018-01-09</td>\n",
              "      <td>1.49</td>\n",
              "    </tr>\n",
              "    <tr>\n",
              "      <th>3</th>\n",
              "      <td>2018-01-08</td>\n",
              "      <td>1.46</td>\n",
              "    </tr>\n",
              "    <tr>\n",
              "      <th>4</th>\n",
              "      <td>2018-01-05</td>\n",
              "      <td>1.47</td>\n",
              "    </tr>\n",
              "    <tr>\n",
              "      <th>5</th>\n",
              "      <td>2018-01-04</td>\n",
              "      <td>1.48</td>\n",
              "    </tr>\n",
              "    <tr>\n",
              "      <th>6</th>\n",
              "      <td>2018-01-03</td>\n",
              "      <td>1.50</td>\n",
              "    </tr>\n",
              "    <tr>\n",
              "      <th>7</th>\n",
              "      <td>2018-01-02</td>\n",
              "      <td>1.52</td>\n",
              "    </tr>\n",
              "    <tr>\n",
              "      <th>8</th>\n",
              "      <td>2017-12-29</td>\n",
              "      <td>1.58</td>\n",
              "    </tr>\n",
              "    <tr>\n",
              "      <th>9</th>\n",
              "      <td>2017-12-28</td>\n",
              "      <td>1.55</td>\n",
              "    </tr>\n",
              "    <tr>\n",
              "      <th>10</th>\n",
              "      <td>2017-12-27</td>\n",
              "      <td>1.51</td>\n",
              "    </tr>\n",
              "    <tr>\n",
              "      <th>11</th>\n",
              "      <td>2017-12-26</td>\n",
              "      <td>1.52</td>\n",
              "    </tr>\n",
              "    <tr>\n",
              "      <th>12</th>\n",
              "      <td>2017-12-22</td>\n",
              "      <td>1.51</td>\n",
              "    </tr>\n",
              "    <tr>\n",
              "      <th>13</th>\n",
              "      <td>2017-12-21</td>\n",
              "      <td>1.53</td>\n",
              "    </tr>\n",
              "    <tr>\n",
              "      <th>14</th>\n",
              "      <td>2017-12-20</td>\n",
              "      <td>1.51</td>\n",
              "    </tr>\n",
              "    <tr>\n",
              "      <th>15</th>\n",
              "      <td>2017-12-19</td>\n",
              "      <td>1.50</td>\n",
              "    </tr>\n",
              "    <tr>\n",
              "      <th>16</th>\n",
              "      <td>2017-12-18</td>\n",
              "      <td>1.50</td>\n",
              "    </tr>\n",
              "    <tr>\n",
              "      <th>17</th>\n",
              "      <td>2017-12-15</td>\n",
              "      <td>1.51</td>\n",
              "    </tr>\n",
              "    <tr>\n",
              "      <th>18</th>\n",
              "      <td>2017-12-14</td>\n",
              "      <td>1.50</td>\n",
              "    </tr>\n",
              "    <tr>\n",
              "      <th>19</th>\n",
              "      <td>2017-12-13</td>\n",
              "      <td>1.50</td>\n",
              "    </tr>\n",
              "  </tbody>\n",
              "</table>\n",
              "</div>"
            ],
            "text/plain": [
              "         date  rate\n",
              "0  2018-01-11  1.50\n",
              "1  2018-01-10  1.51\n",
              "2  2018-01-09  1.49\n",
              "3  2018-01-08  1.46\n",
              "4  2018-01-05  1.47\n",
              "5  2018-01-04  1.48\n",
              "6  2018-01-03  1.50\n",
              "7  2018-01-02  1.52\n",
              "8  2017-12-29  1.58\n",
              "9  2017-12-28  1.55\n",
              "10 2017-12-27  1.51\n",
              "11 2017-12-26  1.52\n",
              "12 2017-12-22  1.51\n",
              "13 2017-12-21  1.53\n",
              "14 2017-12-20  1.51\n",
              "15 2017-12-19  1.50\n",
              "16 2017-12-18  1.50\n",
              "17 2017-12-15  1.51\n",
              "18 2017-12-14  1.50\n",
              "19 2017-12-13  1.50"
            ]
          },
          "metadata": {
            "tags": []
          },
          "execution_count": 436
        }
      ]
    },
    {
      "cell_type": "code",
      "metadata": {
        "id": "WTQFymPC5wz1",
        "colab_type": "code",
        "colab": {}
      },
      "source": [
        "# call_rate_bok=call_rate_df[8:3157]"
      ],
      "execution_count": null,
      "outputs": []
    },
    {
      "cell_type": "code",
      "metadata": {
        "id": "jMy--e0QZ7hp",
        "colab_type": "code",
        "colab": {}
      },
      "source": [
        "# call_rate_bok.head(10)"
      ],
      "execution_count": null,
      "outputs": []
    },
    {
      "cell_type": "code",
      "metadata": {
        "id": "74Ho5eZ76jbT",
        "colab_type": "code",
        "colab": {}
      },
      "source": [
        "# call_rate_bok.to_csv('./drive/My Drive/Colab Notebooks/NLP/프로젝트/call_rate.csv', index=False\n",
        "#                                             )"
      ],
      "execution_count": null,
      "outputs": []
    },
    {
      "cell_type": "code",
      "metadata": {
        "id": "9fK7LPeMgFXA",
        "colab_type": "code",
        "colab": {}
      },
      "source": [
        ""
      ],
      "execution_count": null,
      "outputs": []
    },
    {
      "cell_type": "markdown",
      "metadata": {
        "id": "UYIU3w4lgFq2",
        "colab_type": "text"
      },
      "source": [
        "## nan 처리"
      ]
    },
    {
      "cell_type": "code",
      "metadata": {
        "id": "E8PoPcvtiuG9",
        "colab_type": "code",
        "colab": {}
      },
      "source": [
        "import datetime\n",
        "from datetime import timedelta"
      ],
      "execution_count": null,
      "outputs": []
    },
    {
      "cell_type": "code",
      "metadata": {
        "id": "fLtQuxVggFzu",
        "colab_type": "code",
        "colab": {}
      },
      "source": [
        "# null_dic={}\n",
        "# null_date=[]\n",
        "# null_rate=[]\n",
        "\n",
        "# for i in range(8, 3157, 1):\n",
        "#   if call_rate_df['date'][i] - call_rate_df['date'][i+1] == timedelta(days=1):\n",
        "#     pass\n",
        "#   else: \n",
        "#     null_date.append(call_rate_bok['date'][i] - timedelta(days=1))\n",
        "#     null_rate.append(np.nan)\n",
        "\n"
      ],
      "execution_count": null,
      "outputs": []
    },
    {
      "cell_type": "code",
      "metadata": {
        "id": "iuEOY55WgFfz",
        "colab_type": "code",
        "colab": {}
      },
      "source": [
        "# if call_rate_df['date'][1] -  call_rate_df['date'][2] == timedelta(days=1):\n",
        "#   print('yes!')"
      ],
      "execution_count": null,
      "outputs": []
    },
    {
      "cell_type": "code",
      "metadata": {
        "id": "Plbb4dhsksyr",
        "colab_type": "code",
        "colab": {}
      },
      "source": [
        "# null_dic['date']=null_date\n",
        "# null_dic['rate']=null_rate\n",
        "\n",
        "# null_df=pd.DataFrame(null_dic)"
      ],
      "execution_count": null,
      "outputs": []
    },
    {
      "cell_type": "code",
      "metadata": {
        "id": "VTvU9cUekswk",
        "colab_type": "code",
        "colab": {}
      },
      "source": [
        "# null_df"
      ],
      "execution_count": null,
      "outputs": []
    },
    {
      "cell_type": "code",
      "metadata": {
        "id": "OcTUwE4RvpQG",
        "colab_type": "code",
        "colab": {
          "base_uri": "https://localhost:8080/",
          "height": 34
        },
        "outputId": "250dab61-4c8b-498b-975b-4849f72e8c56"
      },
      "source": [
        "call_rate_df['date'][8] in list(call_rate_df['date'])\n",
        "call_rate_df['date'][11] - timedelta(days=1) in list(call_rate_df['date'])"
      ],
      "execution_count": null,
      "outputs": [
        {
          "output_type": "execute_result",
          "data": {
            "text/plain": [
              "False"
            ]
          },
          "metadata": {
            "tags": []
          },
          "execution_count": 218
        }
      ]
    },
    {
      "cell_type": "code",
      "metadata": {
        "id": "8hNLFVVio5cG",
        "colab_type": "code",
        "colab": {}
      },
      "source": [
        "null_dic={}\n",
        "null_date=[]\n",
        "null_rate=[]\n",
        "\n",
        "day = call_rate_df['date'][0]\n",
        "\n",
        "while 1:\n",
        "  if day == call_rate_df['date'][3177]:\n",
        "    break\n",
        "\n",
        "  day = day - timedelta(days=1) \n",
        "\n",
        "  if day in list(call_rate_df['date']):\n",
        "    continue\n",
        "\n",
        "  else:\n",
        "    null_date.append(day)\n",
        "    null_rate.append(np.nan)\n"
      ],
      "execution_count": null,
      "outputs": []
    },
    {
      "cell_type": "code",
      "metadata": {
        "id": "nxKIqHaAs4fM",
        "colab_type": "code",
        "colab": {}
      },
      "source": [
        "null_dic['date']=null_date\n",
        "null_dic['rate']=null_rate\n",
        "\n",
        "null_df=pd.DataFrame(null_dic)"
      ],
      "execution_count": null,
      "outputs": []
    },
    {
      "cell_type": "code",
      "metadata": {
        "id": "9BxMmccYs4jF",
        "colab_type": "code",
        "colab": {
          "base_uri": "https://localhost:8080/",
          "height": 402
        },
        "outputId": "36d9a9ab-3be0-4d6f-eb1c-c56524f75860"
      },
      "source": [
        "null_df"
      ],
      "execution_count": null,
      "outputs": [
        {
          "output_type": "execute_result",
          "data": {
            "text/html": [
              "<div>\n",
              "<style scoped>\n",
              "    .dataframe tbody tr th:only-of-type {\n",
              "        vertical-align: middle;\n",
              "    }\n",
              "\n",
              "    .dataframe tbody tr th {\n",
              "        vertical-align: top;\n",
              "    }\n",
              "\n",
              "    .dataframe thead th {\n",
              "        text-align: right;\n",
              "    }\n",
              "</style>\n",
              "<table border=\"1\" class=\"dataframe\">\n",
              "  <thead>\n",
              "    <tr style=\"text-align: right;\">\n",
              "      <th></th>\n",
              "      <th>date</th>\n",
              "      <th>rate</th>\n",
              "    </tr>\n",
              "  </thead>\n",
              "  <tbody>\n",
              "    <tr>\n",
              "      <th>0</th>\n",
              "      <td>2018-01-07</td>\n",
              "      <td>NaN</td>\n",
              "    </tr>\n",
              "    <tr>\n",
              "      <th>1</th>\n",
              "      <td>2018-01-06</td>\n",
              "      <td>NaN</td>\n",
              "    </tr>\n",
              "    <tr>\n",
              "      <th>2</th>\n",
              "      <td>2018-01-01</td>\n",
              "      <td>NaN</td>\n",
              "    </tr>\n",
              "    <tr>\n",
              "      <th>3</th>\n",
              "      <td>2017-12-31</td>\n",
              "      <td>NaN</td>\n",
              "    </tr>\n",
              "    <tr>\n",
              "      <th>4</th>\n",
              "      <td>2017-12-30</td>\n",
              "      <td>NaN</td>\n",
              "    </tr>\n",
              "    <tr>\n",
              "      <th>...</th>\n",
              "      <td>...</td>\n",
              "      <td>...</td>\n",
              "    </tr>\n",
              "    <tr>\n",
              "      <th>1487</th>\n",
              "      <td>2005-04-10</td>\n",
              "      <td>NaN</td>\n",
              "    </tr>\n",
              "    <tr>\n",
              "      <th>1488</th>\n",
              "      <td>2005-04-09</td>\n",
              "      <td>NaN</td>\n",
              "    </tr>\n",
              "    <tr>\n",
              "      <th>1489</th>\n",
              "      <td>2005-04-05</td>\n",
              "      <td>NaN</td>\n",
              "    </tr>\n",
              "    <tr>\n",
              "      <th>1490</th>\n",
              "      <td>2005-04-03</td>\n",
              "      <td>NaN</td>\n",
              "    </tr>\n",
              "    <tr>\n",
              "      <th>1491</th>\n",
              "      <td>2005-04-02</td>\n",
              "      <td>NaN</td>\n",
              "    </tr>\n",
              "  </tbody>\n",
              "</table>\n",
              "<p>1492 rows × 2 columns</p>\n",
              "</div>"
            ],
            "text/plain": [
              "           date  rate\n",
              "0    2018-01-07   NaN\n",
              "1    2018-01-06   NaN\n",
              "2    2018-01-01   NaN\n",
              "3    2017-12-31   NaN\n",
              "4    2017-12-30   NaN\n",
              "...         ...   ...\n",
              "1487 2005-04-10   NaN\n",
              "1488 2005-04-09   NaN\n",
              "1489 2005-04-05   NaN\n",
              "1490 2005-04-03   NaN\n",
              "1491 2005-04-02   NaN\n",
              "\n",
              "[1492 rows x 2 columns]"
            ]
          },
          "metadata": {
            "tags": []
          },
          "execution_count": 440
        }
      ]
    },
    {
      "cell_type": "code",
      "metadata": {
        "id": "5QS6aj7us4mz",
        "colab_type": "code",
        "colab": {}
      },
      "source": [
        "call_rate_data=pd.concat([call_rate_df,null_df], ignore_index=True)"
      ],
      "execution_count": null,
      "outputs": []
    },
    {
      "cell_type": "code",
      "metadata": {
        "id": "akJ48D3no5Yt",
        "colab_type": "code",
        "colab": {
          "base_uri": "https://localhost:8080/",
          "height": 402
        },
        "outputId": "a7bfe37c-9be6-4d1c-d527-3e0d56a18fbc"
      },
      "source": [
        "call_rate_data=call_rate_data.sort_values(by='date', ascending=False, ignore_index=True)\n",
        "call_rate_data"
      ],
      "execution_count": null,
      "outputs": [
        {
          "output_type": "execute_result",
          "data": {
            "text/html": [
              "<div>\n",
              "<style scoped>\n",
              "    .dataframe tbody tr th:only-of-type {\n",
              "        vertical-align: middle;\n",
              "    }\n",
              "\n",
              "    .dataframe tbody tr th {\n",
              "        vertical-align: top;\n",
              "    }\n",
              "\n",
              "    .dataframe thead th {\n",
              "        text-align: right;\n",
              "    }\n",
              "</style>\n",
              "<table border=\"1\" class=\"dataframe\">\n",
              "  <thead>\n",
              "    <tr style=\"text-align: right;\">\n",
              "      <th></th>\n",
              "      <th>date</th>\n",
              "      <th>rate</th>\n",
              "    </tr>\n",
              "  </thead>\n",
              "  <tbody>\n",
              "    <tr>\n",
              "      <th>0</th>\n",
              "      <td>2018-01-11</td>\n",
              "      <td>1.50</td>\n",
              "    </tr>\n",
              "    <tr>\n",
              "      <th>1</th>\n",
              "      <td>2018-01-10</td>\n",
              "      <td>1.51</td>\n",
              "    </tr>\n",
              "    <tr>\n",
              "      <th>2</th>\n",
              "      <td>2018-01-09</td>\n",
              "      <td>1.49</td>\n",
              "    </tr>\n",
              "    <tr>\n",
              "      <th>3</th>\n",
              "      <td>2018-01-08</td>\n",
              "      <td>1.46</td>\n",
              "    </tr>\n",
              "    <tr>\n",
              "      <th>4</th>\n",
              "      <td>2018-01-07</td>\n",
              "      <td>NaN</td>\n",
              "    </tr>\n",
              "    <tr>\n",
              "      <th>...</th>\n",
              "      <td>...</td>\n",
              "      <td>...</td>\n",
              "    </tr>\n",
              "    <tr>\n",
              "      <th>4665</th>\n",
              "      <td>2005-04-04</td>\n",
              "      <td>3.24</td>\n",
              "    </tr>\n",
              "    <tr>\n",
              "      <th>4666</th>\n",
              "      <td>2005-04-03</td>\n",
              "      <td>NaN</td>\n",
              "    </tr>\n",
              "    <tr>\n",
              "      <th>4667</th>\n",
              "      <td>2005-04-02</td>\n",
              "      <td>NaN</td>\n",
              "    </tr>\n",
              "    <tr>\n",
              "      <th>4668</th>\n",
              "      <td>2005-04-01</td>\n",
              "      <td>3.25</td>\n",
              "    </tr>\n",
              "    <tr>\n",
              "      <th>4669</th>\n",
              "      <td>2005-03-31</td>\n",
              "      <td>3.26</td>\n",
              "    </tr>\n",
              "  </tbody>\n",
              "</table>\n",
              "<p>4670 rows × 2 columns</p>\n",
              "</div>"
            ],
            "text/plain": [
              "           date  rate\n",
              "0    2018-01-11  1.50\n",
              "1    2018-01-10  1.51\n",
              "2    2018-01-09  1.49\n",
              "3    2018-01-08  1.46\n",
              "4    2018-01-07   NaN\n",
              "...         ...   ...\n",
              "4665 2005-04-04  3.24\n",
              "4666 2005-04-03   NaN\n",
              "4667 2005-04-02   NaN\n",
              "4668 2005-04-01  3.25\n",
              "4669 2005-03-31  3.26\n",
              "\n",
              "[4670 rows x 2 columns]"
            ]
          },
          "metadata": {
            "tags": []
          },
          "execution_count": 442
        }
      ]
    },
    {
      "cell_type": "code",
      "metadata": {
        "id": "TsKC99SZ7f7k",
        "colab_type": "code",
        "colab": {}
      },
      "source": [
        ""
      ],
      "execution_count": null,
      "outputs": []
    },
    {
      "cell_type": "markdown",
      "metadata": {
        "id": "tQfcKBvy6Yjr",
        "colab_type": "text"
      },
      "source": [
        "## 열 추가"
      ]
    },
    {
      "cell_type": "markdown",
      "metadata": {
        "id": "FQDCuyQm6KQg",
        "colab_type": "text"
      },
      "source": [
        "### 한달 전 날짜 및 콜금리"
      ]
    },
    {
      "cell_type": "code",
      "metadata": {
        "id": "IKNIt_-n7gxN",
        "colab_type": "code",
        "colab": {
          "base_uri": "https://localhost:8080/",
          "height": 175
        },
        "outputId": "00f5f5aa-fe18-4f51-a420-7403dce4db8b"
      },
      "source": [
        "call_rate_data.info()"
      ],
      "execution_count": null,
      "outputs": [
        {
          "output_type": "stream",
          "text": [
            "<class 'pandas.core.frame.DataFrame'>\n",
            "RangeIndex: 4670 entries, 0 to 4669\n",
            "Data columns (total 2 columns):\n",
            " #   Column  Non-Null Count  Dtype         \n",
            "---  ------  --------------  -----         \n",
            " 0   date    4670 non-null   datetime64[ns]\n",
            " 1   rate    3178 non-null   float64       \n",
            "dtypes: datetime64[ns](1), float64(1)\n",
            "memory usage: 73.1 KB\n"
          ],
          "name": "stdout"
        }
      ]
    },
    {
      "cell_type": "code",
      "metadata": {
        "id": "2Dfk9D86zm1P",
        "colab_type": "code",
        "colab": {}
      },
      "source": [
        "from dateutil.relativedelta import relativedelta"
      ],
      "execution_count": null,
      "outputs": []
    },
    {
      "cell_type": "code",
      "metadata": {
        "id": "3qUVivqvGbqx",
        "colab_type": "code",
        "colab": {
          "base_uri": "https://localhost:8080/",
          "height": 34
        },
        "outputId": "d0d39924-dd0a-4121-e933-a243d6c253dc"
      },
      "source": [
        "edt =call_rate_data['date'][8] -  relativedelta(months=1)\n",
        "edt=np.datetime64(edt)\n",
        "edt"
      ],
      "execution_count": null,
      "outputs": [
        {
          "output_type": "execute_result",
          "data": {
            "text/plain": [
              "numpy.datetime64('2017-12-03T00:00:00.000000')"
            ]
          },
          "metadata": {
            "tags": []
          },
          "execution_count": 276
        }
      ]
    },
    {
      "cell_type": "code",
      "metadata": {
        "id": "V1hBC9_DElMB",
        "colab_type": "code",
        "colab": {
          "base_uri": "https://localhost:8080/",
          "height": 34
        },
        "outputId": "a2a4c99f-6171-4717-fad8-5191eb0f7c89"
      },
      "source": [
        "call_rate_data[call_rate_data['date']==edt]['rate'].values"
      ],
      "execution_count": null,
      "outputs": [
        {
          "output_type": "execute_result",
          "data": {
            "text/plain": [
              "array([1.26])"
            ]
          },
          "metadata": {
            "tags": []
          },
          "execution_count": 295
        }
      ]
    },
    {
      "cell_type": "code",
      "metadata": {
        "id": "Q6ntNgqQTVh-",
        "colab_type": "code",
        "colab": {
          "base_uri": "https://localhost:8080/",
          "height": 34
        },
        "outputId": "0b8317bb-9dfc-442b-fbff-e15762d684bf"
      },
      "source": [
        "len(call_rate_data[call_rate_data['date']==edt]['rate'].values)"
      ],
      "execution_count": null,
      "outputs": [
        {
          "output_type": "execute_result",
          "data": {
            "text/plain": [
              "1"
            ]
          },
          "metadata": {
            "tags": []
          },
          "execution_count": 277
        }
      ]
    },
    {
      "cell_type": "code",
      "metadata": {
        "id": "O6vA8syLHugh",
        "colab_type": "code",
        "colab": {
          "base_uri": "https://localhost:8080/",
          "height": 34
        },
        "outputId": "cad5251b-fe2d-4efd-802c-0d2c80f9d5d6"
      },
      "source": [
        "call_rate_data['date'].index"
      ],
      "execution_count": null,
      "outputs": [
        {
          "output_type": "execute_result",
          "data": {
            "text/plain": [
              "RangeIndex(start=0, stop=4670, step=1)"
            ]
          },
          "metadata": {
            "tags": []
          },
          "execution_count": 278
        }
      ]
    },
    {
      "cell_type": "code",
      "metadata": {
        "id": "Tq8cT7WA9jbA",
        "colab_type": "code",
        "colab": {
          "base_uri": "https://localhost:8080/",
          "height": 402
        },
        "outputId": "0b6b6738-f6fd-4664-bcf3-9dba552c93a3"
      },
      "source": [
        "call_rate_bok=call_rate_data[11:4639]\n",
        "call_rate_bok"
      ],
      "execution_count": null,
      "outputs": [
        {
          "output_type": "execute_result",
          "data": {
            "text/html": [
              "<div>\n",
              "<style scoped>\n",
              "    .dataframe tbody tr th:only-of-type {\n",
              "        vertical-align: middle;\n",
              "    }\n",
              "\n",
              "    .dataframe tbody tr th {\n",
              "        vertical-align: top;\n",
              "    }\n",
              "\n",
              "    .dataframe thead th {\n",
              "        text-align: right;\n",
              "    }\n",
              "</style>\n",
              "<table border=\"1\" class=\"dataframe\">\n",
              "  <thead>\n",
              "    <tr style=\"text-align: right;\">\n",
              "      <th></th>\n",
              "      <th>date</th>\n",
              "      <th>rate</th>\n",
              "    </tr>\n",
              "  </thead>\n",
              "  <tbody>\n",
              "    <tr>\n",
              "      <th>11</th>\n",
              "      <td>2017-12-31</td>\n",
              "      <td>NaN</td>\n",
              "    </tr>\n",
              "    <tr>\n",
              "      <th>12</th>\n",
              "      <td>2017-12-30</td>\n",
              "      <td>NaN</td>\n",
              "    </tr>\n",
              "    <tr>\n",
              "      <th>13</th>\n",
              "      <td>2017-12-29</td>\n",
              "      <td>1.58</td>\n",
              "    </tr>\n",
              "    <tr>\n",
              "      <th>14</th>\n",
              "      <td>2017-12-28</td>\n",
              "      <td>1.55</td>\n",
              "    </tr>\n",
              "    <tr>\n",
              "      <th>15</th>\n",
              "      <td>2017-12-27</td>\n",
              "      <td>1.51</td>\n",
              "    </tr>\n",
              "    <tr>\n",
              "      <th>...</th>\n",
              "      <td>...</td>\n",
              "      <td>...</td>\n",
              "    </tr>\n",
              "    <tr>\n",
              "      <th>4634</th>\n",
              "      <td>2005-05-05</td>\n",
              "      <td>NaN</td>\n",
              "    </tr>\n",
              "    <tr>\n",
              "      <th>4635</th>\n",
              "      <td>2005-05-04</td>\n",
              "      <td>3.21</td>\n",
              "    </tr>\n",
              "    <tr>\n",
              "      <th>4636</th>\n",
              "      <td>2005-05-03</td>\n",
              "      <td>3.30</td>\n",
              "    </tr>\n",
              "    <tr>\n",
              "      <th>4637</th>\n",
              "      <td>2005-05-02</td>\n",
              "      <td>3.29</td>\n",
              "    </tr>\n",
              "    <tr>\n",
              "      <th>4638</th>\n",
              "      <td>2005-05-01</td>\n",
              "      <td>NaN</td>\n",
              "    </tr>\n",
              "  </tbody>\n",
              "</table>\n",
              "<p>4628 rows × 2 columns</p>\n",
              "</div>"
            ],
            "text/plain": [
              "           date  rate\n",
              "11   2017-12-31   NaN\n",
              "12   2017-12-30   NaN\n",
              "13   2017-12-29  1.58\n",
              "14   2017-12-28  1.55\n",
              "15   2017-12-27  1.51\n",
              "...         ...   ...\n",
              "4634 2005-05-05   NaN\n",
              "4635 2005-05-04  3.21\n",
              "4636 2005-05-03  3.30\n",
              "4637 2005-05-02  3.29\n",
              "4638 2005-05-01   NaN\n",
              "\n",
              "[4628 rows x 2 columns]"
            ]
          },
          "metadata": {
            "tags": []
          },
          "execution_count": 455
        }
      ]
    },
    {
      "cell_type": "code",
      "metadata": {
        "id": "8_qoAYIRzm3H",
        "colab_type": "code",
        "colab": {}
      },
      "source": [
        "# ex_call_rate={}\n",
        "# ex_date=[]\n",
        "# ex_rate=[]\n",
        "\n",
        "# for i in range(11, 3178, 1):\n",
        "#   edt = np.datetime64(call_rate_df['date'][i] - relativedelta(months=1))\n",
        "#   ex_date.append(edt)\n",
        "#   if len(call_rate_df[call_rate_df['date']==edt]['rate'].values) ==0:\n",
        "#     exr = np.nan\n",
        "#     ex_rate.append(exr)\n",
        "#   else:\n",
        "#     exr=call_rate_df[call_rate_df['date']==edt]['rate'].values[0]\n",
        "#     ex_rate.append(exr)\n",
        "\n",
        "# ex_call_rate['date_MoM']=ex_date\n",
        "# ex_call_rate['rate_MoM']=ex_rate\n",
        "# ex_call_rate_df=pd.DataFrame(ex_call_rate)"
      ],
      "execution_count": null,
      "outputs": []
    },
    {
      "cell_type": "code",
      "metadata": {
        "id": "ZA6bm5OcDVui",
        "colab_type": "code",
        "colab": {}
      },
      "source": [
        "# ex_call_rate_df"
      ],
      "execution_count": null,
      "outputs": []
    },
    {
      "cell_type": "code",
      "metadata": {
        "id": "21HUXQ8tAdV0",
        "colab_type": "code",
        "colab": {
          "base_uri": "https://localhost:8080/",
          "height": 34
        },
        "outputId": "fb12ee2a-b59e-4963-8f93-71435b689e08"
      },
      "source": [
        "edt = np.datetime64(call_rate_data['date'][17]- relativedelta(months=1))\n",
        "edt"
      ],
      "execution_count": null,
      "outputs": [
        {
          "output_type": "execute_result",
          "data": {
            "text/plain": [
              "numpy.datetime64('2017-11-25T00:00:00.000000')"
            ]
          },
          "metadata": {
            "tags": []
          },
          "execution_count": 416
        }
      ]
    },
    {
      "cell_type": "code",
      "metadata": {
        "id": "RRovjCMcMvQK",
        "colab_type": "code",
        "colab": {
          "base_uri": "https://localhost:8080/",
          "height": 34
        },
        "outputId": "035c23c2-d8f5-4155-be6d-1d040873c330"
      },
      "source": [
        "call_rate_data[call_rate_data['date']==edt]['rate'].values[0]"
      ],
      "execution_count": null,
      "outputs": [
        {
          "output_type": "execute_result",
          "data": {
            "text/plain": [
              "nan"
            ]
          },
          "metadata": {
            "tags": []
          },
          "execution_count": 413
        }
      ]
    },
    {
      "cell_type": "code",
      "metadata": {
        "id": "pfLMPft7VHfB",
        "colab_type": "code",
        "colab": {}
      },
      "source": [
        ""
      ],
      "execution_count": null,
      "outputs": []
    },
    {
      "cell_type": "code",
      "metadata": {
        "id": "Wa5r9RDNRNfE",
        "colab_type": "code",
        "colab": {}
      },
      "source": [
        "ex_call_rate={}\n",
        "ex_date=[]\n",
        "ex_rate=[]\n",
        "\n",
        "for i in range(11, 4639, 1):\n",
        "  edt = np.datetime64(call_rate_data['date'][i] - relativedelta(months=1))\n",
        "  ex_date.append(edt)\n",
        "  # exr = call_rate_data[call_rate_data['date']==edt]['rate'].values[0]\n",
        "\n",
        "  if call_rate_data[call_rate_data['date']==edt]['rate'].values[0] >= 0:\n",
        "    exr=call_rate_data[call_rate_data['date']==edt]['rate'].values[0]\n",
        "  # elif call_rate_data[call_rate_data['date']==edt]['rate'].values[0] !=0:\n",
        "  #   edt=np.datetime64(call_rate_data['date'][i+1] - relativedelta(months=1))\n",
        "  #   exr=call_rate_data[call_rate_data['date']==edt]['rate'].values[0]\n",
        "  else:\n",
        "    edt=np.datetime64(call_rate_data['date'][i+1] - relativedelta(months=1))\n",
        "    if call_rate_data[call_rate_data['date']==edt]['rate'].values[0] >= 0:\n",
        "      exr=call_rate_data[call_rate_data['date']==edt]['rate'].values[0]\n",
        "    else:\n",
        "      edt=np.datetime64(call_rate_data['date'][i+2] - relativedelta(months=1))\n",
        "      if call_rate_data[call_rate_data['date']==edt]['rate'].values[0] >= 0:\n",
        "        exr=call_rate_data[call_rate_data['date']==edt]['rate'].values[0]\n",
        "      else:\n",
        "        edt=np.datetime64(call_rate_data['date'][i+3] - relativedelta(months=1))\n",
        "        if call_rate_data[call_rate_data['date']==edt]['rate'].values[0] >= 0:\n",
        "          exr=call_rate_data[call_rate_data['date']==edt]['rate'].values[0]\n",
        "        else: \n",
        "          edt=np.datetime64(call_rate_data['date'][i+4] - relativedelta(months=1))\n",
        "          if call_rate_data[call_rate_data['date']==edt]['rate'].values[0] >= 0:\n",
        "            exr=call_rate_data[call_rate_data['date']==edt]['rate'].values[0]\n",
        "          else:\n",
        "            edt=np.datetime64(call_rate_data['date'][i+5] - relativedelta(months=1))\n",
        "            if call_rate_data[call_rate_data['date']==edt]['rate'].values[0] >= 0: \n",
        "              exr=call_rate_data[call_rate_data['date']==edt]['rate'].values[0]\n",
        "            else: \n",
        "              edt=np.datetime64(call_rate_data['date'][i+6] - relativedelta(months=1))\n",
        "              if call_rate_data[call_rate_data['date']==edt]['rate'].values[0] >= 0: \n",
        "                exr=call_rate_data[call_rate_data['date']==edt]['rate'].values[0]\n",
        "              else:\n",
        "                exr=1.27\n",
        "      \n",
        "      \n",
        "\n",
        "  ex_rate.append(exr)\n",
        "\n",
        "ex_call_rate['date_MoM']=ex_date\n",
        "ex_call_rate['rate_MoM']=ex_rate\n",
        "ex_call_rate_df=pd.DataFrame(ex_call_rate)"
      ],
      "execution_count": null,
      "outputs": []
    },
    {
      "cell_type": "code",
      "metadata": {
        "id": "clarP9fiK6iD",
        "colab_type": "code",
        "colab": {
          "base_uri": "https://localhost:8080/",
          "height": 47
        },
        "outputId": "d16a9bce-3d79-4099-8c8f-9a10b15d4d34"
      },
      "source": [
        "ex_call_rate_df[ex_call_rate_df['rate_MoM'].isnull()==True]"
      ],
      "execution_count": null,
      "outputs": [
        {
          "output_type": "execute_result",
          "data": {
            "text/html": [
              "<div>\n",
              "<style scoped>\n",
              "    .dataframe tbody tr th:only-of-type {\n",
              "        vertical-align: middle;\n",
              "    }\n",
              "\n",
              "    .dataframe tbody tr th {\n",
              "        vertical-align: top;\n",
              "    }\n",
              "\n",
              "    .dataframe thead th {\n",
              "        text-align: right;\n",
              "    }\n",
              "</style>\n",
              "<table border=\"1\" class=\"dataframe\">\n",
              "  <thead>\n",
              "    <tr style=\"text-align: right;\">\n",
              "      <th></th>\n",
              "      <th>date_MoM</th>\n",
              "      <th>rate_MoM</th>\n",
              "    </tr>\n",
              "  </thead>\n",
              "  <tbody>\n",
              "  </tbody>\n",
              "</table>\n",
              "</div>"
            ],
            "text/plain": [
              "Empty DataFrame\n",
              "Columns: [date_MoM, rate_MoM]\n",
              "Index: []"
            ]
          },
          "metadata": {
            "tags": []
          },
          "execution_count": 474
        }
      ]
    },
    {
      "cell_type": "code",
      "metadata": {
        "id": "pVADqfXCPquH",
        "colab_type": "code",
        "colab": {
          "base_uri": "https://localhost:8080/",
          "height": 34
        },
        "outputId": "fc4749c3-b216-431e-92f7-04f700999a21"
      },
      "source": [
        "call_rate_bok.shape, ex_call_rate_df.shape"
      ],
      "execution_count": null,
      "outputs": [
        {
          "output_type": "execute_result",
          "data": {
            "text/plain": [
              "((4628, 2), (4628, 2))"
            ]
          },
          "metadata": {
            "tags": []
          },
          "execution_count": 476
        }
      ]
    },
    {
      "cell_type": "code",
      "metadata": {
        "id": "RJ91yykRxgxt",
        "colab_type": "code",
        "colab": {
          "base_uri": "https://localhost:8080/",
          "height": 402
        },
        "outputId": "59b8b5c3-4cae-47f3-b0e9-c7191a8130d4"
      },
      "source": [
        "call_rate_bok"
      ],
      "execution_count": null,
      "outputs": [
        {
          "output_type": "execute_result",
          "data": {
            "text/html": [
              "<div>\n",
              "<style scoped>\n",
              "    .dataframe tbody tr th:only-of-type {\n",
              "        vertical-align: middle;\n",
              "    }\n",
              "\n",
              "    .dataframe tbody tr th {\n",
              "        vertical-align: top;\n",
              "    }\n",
              "\n",
              "    .dataframe thead th {\n",
              "        text-align: right;\n",
              "    }\n",
              "</style>\n",
              "<table border=\"1\" class=\"dataframe\">\n",
              "  <thead>\n",
              "    <tr style=\"text-align: right;\">\n",
              "      <th></th>\n",
              "      <th>date</th>\n",
              "      <th>rate</th>\n",
              "    </tr>\n",
              "  </thead>\n",
              "  <tbody>\n",
              "    <tr>\n",
              "      <th>11</th>\n",
              "      <td>2017-12-31</td>\n",
              "      <td>NaN</td>\n",
              "    </tr>\n",
              "    <tr>\n",
              "      <th>12</th>\n",
              "      <td>2017-12-30</td>\n",
              "      <td>NaN</td>\n",
              "    </tr>\n",
              "    <tr>\n",
              "      <th>13</th>\n",
              "      <td>2017-12-29</td>\n",
              "      <td>1.58</td>\n",
              "    </tr>\n",
              "    <tr>\n",
              "      <th>14</th>\n",
              "      <td>2017-12-28</td>\n",
              "      <td>1.55</td>\n",
              "    </tr>\n",
              "    <tr>\n",
              "      <th>15</th>\n",
              "      <td>2017-12-27</td>\n",
              "      <td>1.51</td>\n",
              "    </tr>\n",
              "    <tr>\n",
              "      <th>...</th>\n",
              "      <td>...</td>\n",
              "      <td>...</td>\n",
              "    </tr>\n",
              "    <tr>\n",
              "      <th>4634</th>\n",
              "      <td>2005-05-05</td>\n",
              "      <td>NaN</td>\n",
              "    </tr>\n",
              "    <tr>\n",
              "      <th>4635</th>\n",
              "      <td>2005-05-04</td>\n",
              "      <td>3.21</td>\n",
              "    </tr>\n",
              "    <tr>\n",
              "      <th>4636</th>\n",
              "      <td>2005-05-03</td>\n",
              "      <td>3.30</td>\n",
              "    </tr>\n",
              "    <tr>\n",
              "      <th>4637</th>\n",
              "      <td>2005-05-02</td>\n",
              "      <td>3.29</td>\n",
              "    </tr>\n",
              "    <tr>\n",
              "      <th>4638</th>\n",
              "      <td>2005-05-01</td>\n",
              "      <td>NaN</td>\n",
              "    </tr>\n",
              "  </tbody>\n",
              "</table>\n",
              "<p>4628 rows × 2 columns</p>\n",
              "</div>"
            ],
            "text/plain": [
              "           date  rate\n",
              "11   2017-12-31   NaN\n",
              "12   2017-12-30   NaN\n",
              "13   2017-12-29  1.58\n",
              "14   2017-12-28  1.55\n",
              "15   2017-12-27  1.51\n",
              "...         ...   ...\n",
              "4634 2005-05-05   NaN\n",
              "4635 2005-05-04  3.21\n",
              "4636 2005-05-03  3.30\n",
              "4637 2005-05-02  3.29\n",
              "4638 2005-05-01   NaN\n",
              "\n",
              "[4628 rows x 2 columns]"
            ]
          },
          "metadata": {
            "tags": []
          },
          "execution_count": 480
        }
      ]
    },
    {
      "cell_type": "code",
      "metadata": {
        "id": "zCWTQF8xxqMo",
        "colab_type": "code",
        "colab": {}
      },
      "source": [
        "call_rate_bok=call_rate_bok.reset_index()"
      ],
      "execution_count": null,
      "outputs": []
    },
    {
      "cell_type": "code",
      "metadata": {
        "id": "1eXRL2ztq1lP",
        "colab_type": "code",
        "colab": {}
      },
      "source": [
        "semi_final_data = pd.concat([call_rate_bok, ex_call_rate_df], axis=1)"
      ],
      "execution_count": null,
      "outputs": []
    },
    {
      "cell_type": "code",
      "metadata": {
        "id": "owicsQf9xUC7",
        "colab_type": "code",
        "colab": {}
      },
      "source": [
        "semi_final_data=semi_final_data.drop(['index'], axis=1)"
      ],
      "execution_count": null,
      "outputs": []
    },
    {
      "cell_type": "code",
      "metadata": {
        "id": "O0N5TSzWzpXD",
        "colab_type": "code",
        "colab": {
          "base_uri": "https://localhost:8080/",
          "height": 402
        },
        "outputId": "c3ebd27f-d3db-4439-acd4-d07674909348"
      },
      "source": [
        "semi_final_data"
      ],
      "execution_count": null,
      "outputs": [
        {
          "output_type": "execute_result",
          "data": {
            "text/html": [
              "<div>\n",
              "<style scoped>\n",
              "    .dataframe tbody tr th:only-of-type {\n",
              "        vertical-align: middle;\n",
              "    }\n",
              "\n",
              "    .dataframe tbody tr th {\n",
              "        vertical-align: top;\n",
              "    }\n",
              "\n",
              "    .dataframe thead th {\n",
              "        text-align: right;\n",
              "    }\n",
              "</style>\n",
              "<table border=\"1\" class=\"dataframe\">\n",
              "  <thead>\n",
              "    <tr style=\"text-align: right;\">\n",
              "      <th></th>\n",
              "      <th>date</th>\n",
              "      <th>rate</th>\n",
              "      <th>date_MoM</th>\n",
              "      <th>rate_MoM</th>\n",
              "    </tr>\n",
              "  </thead>\n",
              "  <tbody>\n",
              "    <tr>\n",
              "      <th>0</th>\n",
              "      <td>2017-12-31</td>\n",
              "      <td>NaN</td>\n",
              "      <td>2017-11-30</td>\n",
              "      <td>1.53</td>\n",
              "    </tr>\n",
              "    <tr>\n",
              "      <th>1</th>\n",
              "      <td>2017-12-30</td>\n",
              "      <td>NaN</td>\n",
              "      <td>2017-11-30</td>\n",
              "      <td>1.53</td>\n",
              "    </tr>\n",
              "    <tr>\n",
              "      <th>2</th>\n",
              "      <td>2017-12-29</td>\n",
              "      <td>1.58</td>\n",
              "      <td>2017-11-29</td>\n",
              "      <td>1.26</td>\n",
              "    </tr>\n",
              "    <tr>\n",
              "      <th>3</th>\n",
              "      <td>2017-12-28</td>\n",
              "      <td>1.55</td>\n",
              "      <td>2017-11-28</td>\n",
              "      <td>1.26</td>\n",
              "    </tr>\n",
              "    <tr>\n",
              "      <th>4</th>\n",
              "      <td>2017-12-27</td>\n",
              "      <td>1.51</td>\n",
              "      <td>2017-11-27</td>\n",
              "      <td>1.26</td>\n",
              "    </tr>\n",
              "    <tr>\n",
              "      <th>...</th>\n",
              "      <td>...</td>\n",
              "      <td>...</td>\n",
              "      <td>...</td>\n",
              "      <td>...</td>\n",
              "    </tr>\n",
              "    <tr>\n",
              "      <th>4623</th>\n",
              "      <td>2005-05-05</td>\n",
              "      <td>NaN</td>\n",
              "      <td>2005-04-05</td>\n",
              "      <td>3.24</td>\n",
              "    </tr>\n",
              "    <tr>\n",
              "      <th>4624</th>\n",
              "      <td>2005-05-04</td>\n",
              "      <td>3.21</td>\n",
              "      <td>2005-04-04</td>\n",
              "      <td>3.24</td>\n",
              "    </tr>\n",
              "    <tr>\n",
              "      <th>4625</th>\n",
              "      <td>2005-05-03</td>\n",
              "      <td>3.30</td>\n",
              "      <td>2005-04-03</td>\n",
              "      <td>3.25</td>\n",
              "    </tr>\n",
              "    <tr>\n",
              "      <th>4626</th>\n",
              "      <td>2005-05-02</td>\n",
              "      <td>3.29</td>\n",
              "      <td>2005-04-02</td>\n",
              "      <td>3.25</td>\n",
              "    </tr>\n",
              "    <tr>\n",
              "      <th>4627</th>\n",
              "      <td>2005-05-01</td>\n",
              "      <td>NaN</td>\n",
              "      <td>2005-04-01</td>\n",
              "      <td>3.25</td>\n",
              "    </tr>\n",
              "  </tbody>\n",
              "</table>\n",
              "<p>4628 rows × 4 columns</p>\n",
              "</div>"
            ],
            "text/plain": [
              "           date  rate   date_MoM  rate_MoM\n",
              "0    2017-12-31   NaN 2017-11-30      1.53\n",
              "1    2017-12-30   NaN 2017-11-30      1.53\n",
              "2    2017-12-29  1.58 2017-11-29      1.26\n",
              "3    2017-12-28  1.55 2017-11-28      1.26\n",
              "4    2017-12-27  1.51 2017-11-27      1.26\n",
              "...         ...   ...        ...       ...\n",
              "4623 2005-05-05   NaN 2005-04-05      3.24\n",
              "4624 2005-05-04  3.21 2005-04-04      3.24\n",
              "4625 2005-05-03  3.30 2005-04-03      3.25\n",
              "4626 2005-05-02  3.29 2005-04-02      3.25\n",
              "4627 2005-05-01   NaN 2005-04-01      3.25\n",
              "\n",
              "[4628 rows x 4 columns]"
            ]
          },
          "metadata": {
            "tags": []
          },
          "execution_count": 556
        }
      ]
    },
    {
      "cell_type": "code",
      "metadata": {
        "id": "7snkcSkCq1fk",
        "colab_type": "code",
        "colab": {}
      },
      "source": [
        "# semi_final_data.to_csv('./drive/My Drive/Colab Notebooks/NLP/프로젝트/semi_final_data.csv', index=False)"
      ],
      "execution_count": null,
      "outputs": []
    },
    {
      "cell_type": "code",
      "metadata": {
        "id": "HKd3E_dLy5Nv",
        "colab_type": "code",
        "colab": {}
      },
      "source": [
        "final_data=semi_final_data.dropna()"
      ],
      "execution_count": null,
      "outputs": []
    },
    {
      "cell_type": "code",
      "metadata": {
        "id": "bRH8zriB4nr7",
        "colab_type": "code",
        "colab": {
          "base_uri": "https://localhost:8080/",
          "height": 402
        },
        "outputId": "8bf23170-c9e6-4293-a77a-6c30e675a043"
      },
      "source": [
        "final_data"
      ],
      "execution_count": null,
      "outputs": [
        {
          "output_type": "execute_result",
          "data": {
            "text/html": [
              "<div>\n",
              "<style scoped>\n",
              "    .dataframe tbody tr th:only-of-type {\n",
              "        vertical-align: middle;\n",
              "    }\n",
              "\n",
              "    .dataframe tbody tr th {\n",
              "        vertical-align: top;\n",
              "    }\n",
              "\n",
              "    .dataframe thead th {\n",
              "        text-align: right;\n",
              "    }\n",
              "</style>\n",
              "<table border=\"1\" class=\"dataframe\">\n",
              "  <thead>\n",
              "    <tr style=\"text-align: right;\">\n",
              "      <th></th>\n",
              "      <th>date</th>\n",
              "      <th>rate</th>\n",
              "      <th>date_MoM</th>\n",
              "      <th>rate_MoM</th>\n",
              "    </tr>\n",
              "  </thead>\n",
              "  <tbody>\n",
              "    <tr>\n",
              "      <th>2</th>\n",
              "      <td>2017-12-29</td>\n",
              "      <td>1.58</td>\n",
              "      <td>2017-11-29</td>\n",
              "      <td>1.26</td>\n",
              "    </tr>\n",
              "    <tr>\n",
              "      <th>3</th>\n",
              "      <td>2017-12-28</td>\n",
              "      <td>1.55</td>\n",
              "      <td>2017-11-28</td>\n",
              "      <td>1.26</td>\n",
              "    </tr>\n",
              "    <tr>\n",
              "      <th>4</th>\n",
              "      <td>2017-12-27</td>\n",
              "      <td>1.51</td>\n",
              "      <td>2017-11-27</td>\n",
              "      <td>1.26</td>\n",
              "    </tr>\n",
              "    <tr>\n",
              "      <th>5</th>\n",
              "      <td>2017-12-26</td>\n",
              "      <td>1.52</td>\n",
              "      <td>2017-11-26</td>\n",
              "      <td>1.25</td>\n",
              "    </tr>\n",
              "    <tr>\n",
              "      <th>9</th>\n",
              "      <td>2017-12-22</td>\n",
              "      <td>1.51</td>\n",
              "      <td>2017-11-22</td>\n",
              "      <td>1.24</td>\n",
              "    </tr>\n",
              "    <tr>\n",
              "      <th>...</th>\n",
              "      <td>...</td>\n",
              "      <td>...</td>\n",
              "      <td>...</td>\n",
              "      <td>...</td>\n",
              "    </tr>\n",
              "    <tr>\n",
              "      <th>4619</th>\n",
              "      <td>2005-05-09</td>\n",
              "      <td>3.29</td>\n",
              "      <td>2005-04-09</td>\n",
              "      <td>3.26</td>\n",
              "    </tr>\n",
              "    <tr>\n",
              "      <th>4622</th>\n",
              "      <td>2005-05-06</td>\n",
              "      <td>3.27</td>\n",
              "      <td>2005-04-06</td>\n",
              "      <td>3.23</td>\n",
              "    </tr>\n",
              "    <tr>\n",
              "      <th>4624</th>\n",
              "      <td>2005-05-04</td>\n",
              "      <td>3.21</td>\n",
              "      <td>2005-04-04</td>\n",
              "      <td>3.24</td>\n",
              "    </tr>\n",
              "    <tr>\n",
              "      <th>4625</th>\n",
              "      <td>2005-05-03</td>\n",
              "      <td>3.30</td>\n",
              "      <td>2005-04-03</td>\n",
              "      <td>3.25</td>\n",
              "    </tr>\n",
              "    <tr>\n",
              "      <th>4626</th>\n",
              "      <td>2005-05-02</td>\n",
              "      <td>3.29</td>\n",
              "      <td>2005-04-02</td>\n",
              "      <td>3.25</td>\n",
              "    </tr>\n",
              "  </tbody>\n",
              "</table>\n",
              "<p>3149 rows × 4 columns</p>\n",
              "</div>"
            ],
            "text/plain": [
              "           date  rate   date_MoM  rate_MoM\n",
              "2    2017-12-29  1.58 2017-11-29      1.26\n",
              "3    2017-12-28  1.55 2017-11-28      1.26\n",
              "4    2017-12-27  1.51 2017-11-27      1.26\n",
              "5    2017-12-26  1.52 2017-11-26      1.25\n",
              "9    2017-12-22  1.51 2017-11-22      1.24\n",
              "...         ...   ...        ...       ...\n",
              "4619 2005-05-09  3.29 2005-04-09      3.26\n",
              "4622 2005-05-06  3.27 2005-04-06      3.23\n",
              "4624 2005-05-04  3.21 2005-04-04      3.24\n",
              "4625 2005-05-03  3.30 2005-04-03      3.25\n",
              "4626 2005-05-02  3.29 2005-04-02      3.25\n",
              "\n",
              "[3149 rows x 4 columns]"
            ]
          },
          "metadata": {
            "tags": []
          },
          "execution_count": 558
        }
      ]
    },
    {
      "cell_type": "code",
      "metadata": {
        "id": "N6Abhi04zE7L",
        "colab_type": "code",
        "colab": {}
      },
      "source": [
        "final_data=final_data.reset_index()"
      ],
      "execution_count": null,
      "outputs": []
    },
    {
      "cell_type": "code",
      "metadata": {
        "id": "a8nk5od04tXH",
        "colab_type": "code",
        "colab": {}
      },
      "source": [
        "final_data=final_data.drop(['index'], axis=1)"
      ],
      "execution_count": null,
      "outputs": []
    },
    {
      "cell_type": "code",
      "metadata": {
        "id": "rPjQ3dic40EG",
        "colab_type": "code",
        "colab": {
          "base_uri": "https://localhost:8080/",
          "height": 402
        },
        "outputId": "b5ab88ea-56ef-4aa6-b09a-c6d95823f6e2"
      },
      "source": [
        "final_data"
      ],
      "execution_count": null,
      "outputs": [
        {
          "output_type": "execute_result",
          "data": {
            "text/html": [
              "<div>\n",
              "<style scoped>\n",
              "    .dataframe tbody tr th:only-of-type {\n",
              "        vertical-align: middle;\n",
              "    }\n",
              "\n",
              "    .dataframe tbody tr th {\n",
              "        vertical-align: top;\n",
              "    }\n",
              "\n",
              "    .dataframe thead th {\n",
              "        text-align: right;\n",
              "    }\n",
              "</style>\n",
              "<table border=\"1\" class=\"dataframe\">\n",
              "  <thead>\n",
              "    <tr style=\"text-align: right;\">\n",
              "      <th></th>\n",
              "      <th>date</th>\n",
              "      <th>rate</th>\n",
              "      <th>date_MoM</th>\n",
              "      <th>rate_MoM</th>\n",
              "    </tr>\n",
              "  </thead>\n",
              "  <tbody>\n",
              "    <tr>\n",
              "      <th>0</th>\n",
              "      <td>2017-12-29</td>\n",
              "      <td>1.58</td>\n",
              "      <td>2017-11-29</td>\n",
              "      <td>1.26</td>\n",
              "    </tr>\n",
              "    <tr>\n",
              "      <th>1</th>\n",
              "      <td>2017-12-28</td>\n",
              "      <td>1.55</td>\n",
              "      <td>2017-11-28</td>\n",
              "      <td>1.26</td>\n",
              "    </tr>\n",
              "    <tr>\n",
              "      <th>2</th>\n",
              "      <td>2017-12-27</td>\n",
              "      <td>1.51</td>\n",
              "      <td>2017-11-27</td>\n",
              "      <td>1.26</td>\n",
              "    </tr>\n",
              "    <tr>\n",
              "      <th>3</th>\n",
              "      <td>2017-12-26</td>\n",
              "      <td>1.52</td>\n",
              "      <td>2017-11-26</td>\n",
              "      <td>1.25</td>\n",
              "    </tr>\n",
              "    <tr>\n",
              "      <th>4</th>\n",
              "      <td>2017-12-22</td>\n",
              "      <td>1.51</td>\n",
              "      <td>2017-11-22</td>\n",
              "      <td>1.24</td>\n",
              "    </tr>\n",
              "    <tr>\n",
              "      <th>...</th>\n",
              "      <td>...</td>\n",
              "      <td>...</td>\n",
              "      <td>...</td>\n",
              "      <td>...</td>\n",
              "    </tr>\n",
              "    <tr>\n",
              "      <th>3144</th>\n",
              "      <td>2005-05-09</td>\n",
              "      <td>3.29</td>\n",
              "      <td>2005-04-09</td>\n",
              "      <td>3.26</td>\n",
              "    </tr>\n",
              "    <tr>\n",
              "      <th>3145</th>\n",
              "      <td>2005-05-06</td>\n",
              "      <td>3.27</td>\n",
              "      <td>2005-04-06</td>\n",
              "      <td>3.23</td>\n",
              "    </tr>\n",
              "    <tr>\n",
              "      <th>3146</th>\n",
              "      <td>2005-05-04</td>\n",
              "      <td>3.21</td>\n",
              "      <td>2005-04-04</td>\n",
              "      <td>3.24</td>\n",
              "    </tr>\n",
              "    <tr>\n",
              "      <th>3147</th>\n",
              "      <td>2005-05-03</td>\n",
              "      <td>3.30</td>\n",
              "      <td>2005-04-03</td>\n",
              "      <td>3.25</td>\n",
              "    </tr>\n",
              "    <tr>\n",
              "      <th>3148</th>\n",
              "      <td>2005-05-02</td>\n",
              "      <td>3.29</td>\n",
              "      <td>2005-04-02</td>\n",
              "      <td>3.25</td>\n",
              "    </tr>\n",
              "  </tbody>\n",
              "</table>\n",
              "<p>3149 rows × 4 columns</p>\n",
              "</div>"
            ],
            "text/plain": [
              "           date  rate   date_MoM  rate_MoM\n",
              "0    2017-12-29  1.58 2017-11-29      1.26\n",
              "1    2017-12-28  1.55 2017-11-28      1.26\n",
              "2    2017-12-27  1.51 2017-11-27      1.26\n",
              "3    2017-12-26  1.52 2017-11-26      1.25\n",
              "4    2017-12-22  1.51 2017-11-22      1.24\n",
              "...         ...   ...        ...       ...\n",
              "3144 2005-05-09  3.29 2005-04-09      3.26\n",
              "3145 2005-05-06  3.27 2005-04-06      3.23\n",
              "3146 2005-05-04  3.21 2005-04-04      3.24\n",
              "3147 2005-05-03  3.30 2005-04-03      3.25\n",
              "3148 2005-05-02  3.29 2005-04-02      3.25\n",
              "\n",
              "[3149 rows x 4 columns]"
            ]
          },
          "metadata": {
            "tags": []
          },
          "execution_count": 562
        }
      ]
    },
    {
      "cell_type": "code",
      "metadata": {
        "id": "0ePnFuwIzHAe",
        "colab_type": "code",
        "colab": {}
      },
      "source": [
        "up_down_dic={}\n",
        "up_down_list=[]\n",
        "\n",
        "\n",
        "for i, j in zip(list(final_data['rate']), list(final_data['rate_MoM'])):\n",
        "  if i >= j:\n",
        "    if i==j:\n",
        "      up_down_list.append('even')\n",
        "    else:\n",
        "      up_down_list.append('up')\n",
        "  else:\n",
        "    up_down_list.append('down')\n",
        "\n",
        "up_down_dic['up_down']=up_down_list"
      ],
      "execution_count": null,
      "outputs": []
    },
    {
      "cell_type": "code",
      "metadata": {
        "id": "YZmnffTz1-tT",
        "colab_type": "code",
        "colab": {
          "base_uri": "https://localhost:8080/",
          "height": 34
        },
        "outputId": "97b74b76-39cf-4589-a3c5-9195e0163ff2"
      },
      "source": [
        "len(up_down_list)"
      ],
      "execution_count": null,
      "outputs": [
        {
          "output_type": "execute_result",
          "data": {
            "text/plain": [
              "3149"
            ]
          },
          "metadata": {
            "tags": []
          },
          "execution_count": 541
        }
      ]
    },
    {
      "cell_type": "code",
      "metadata": {
        "id": "RUQXoqyd07mE",
        "colab_type": "code",
        "colab": {}
      },
      "source": [
        "up_down_col=pd.DataFrame(up_down_dic)"
      ],
      "execution_count": null,
      "outputs": []
    },
    {
      "cell_type": "code",
      "metadata": {
        "id": "ozYEqlIj1Ke_",
        "colab_type": "code",
        "colab": {
          "base_uri": "https://localhost:8080/",
          "height": 402
        },
        "outputId": "6aa47329-6318-48c3-e113-123100948a60"
      },
      "source": [
        "up_down_col"
      ],
      "execution_count": null,
      "outputs": [
        {
          "output_type": "execute_result",
          "data": {
            "text/html": [
              "<div>\n",
              "<style scoped>\n",
              "    .dataframe tbody tr th:only-of-type {\n",
              "        vertical-align: middle;\n",
              "    }\n",
              "\n",
              "    .dataframe tbody tr th {\n",
              "        vertical-align: top;\n",
              "    }\n",
              "\n",
              "    .dataframe thead th {\n",
              "        text-align: right;\n",
              "    }\n",
              "</style>\n",
              "<table border=\"1\" class=\"dataframe\">\n",
              "  <thead>\n",
              "    <tr style=\"text-align: right;\">\n",
              "      <th></th>\n",
              "      <th>up_down</th>\n",
              "    </tr>\n",
              "  </thead>\n",
              "  <tbody>\n",
              "    <tr>\n",
              "      <th>0</th>\n",
              "      <td>up</td>\n",
              "    </tr>\n",
              "    <tr>\n",
              "      <th>1</th>\n",
              "      <td>up</td>\n",
              "    </tr>\n",
              "    <tr>\n",
              "      <th>2</th>\n",
              "      <td>up</td>\n",
              "    </tr>\n",
              "    <tr>\n",
              "      <th>3</th>\n",
              "      <td>up</td>\n",
              "    </tr>\n",
              "    <tr>\n",
              "      <th>4</th>\n",
              "      <td>up</td>\n",
              "    </tr>\n",
              "    <tr>\n",
              "      <th>...</th>\n",
              "      <td>...</td>\n",
              "    </tr>\n",
              "    <tr>\n",
              "      <th>3144</th>\n",
              "      <td>up</td>\n",
              "    </tr>\n",
              "    <tr>\n",
              "      <th>3145</th>\n",
              "      <td>up</td>\n",
              "    </tr>\n",
              "    <tr>\n",
              "      <th>3146</th>\n",
              "      <td>down</td>\n",
              "    </tr>\n",
              "    <tr>\n",
              "      <th>3147</th>\n",
              "      <td>up</td>\n",
              "    </tr>\n",
              "    <tr>\n",
              "      <th>3148</th>\n",
              "      <td>up</td>\n",
              "    </tr>\n",
              "  </tbody>\n",
              "</table>\n",
              "<p>3149 rows × 1 columns</p>\n",
              "</div>"
            ],
            "text/plain": [
              "     up_down\n",
              "0         up\n",
              "1         up\n",
              "2         up\n",
              "3         up\n",
              "4         up\n",
              "...      ...\n",
              "3144      up\n",
              "3145      up\n",
              "3146    down\n",
              "3147      up\n",
              "3148      up\n",
              "\n",
              "[3149 rows x 1 columns]"
            ]
          },
          "metadata": {
            "tags": []
          },
          "execution_count": 543
        }
      ]
    },
    {
      "cell_type": "code",
      "metadata": {
        "id": "ctnqJvtv1LPf",
        "colab_type": "code",
        "colab": {
          "base_uri": "https://localhost:8080/",
          "height": 402
        },
        "outputId": "1fff31ca-7cb0-43da-d44a-3584de1e1c98"
      },
      "source": [
        "final_data=pd.concat([final_data, up_down_col], axis=1)\n",
        "final_data"
      ],
      "execution_count": null,
      "outputs": [
        {
          "output_type": "execute_result",
          "data": {
            "text/html": [
              "<div>\n",
              "<style scoped>\n",
              "    .dataframe tbody tr th:only-of-type {\n",
              "        vertical-align: middle;\n",
              "    }\n",
              "\n",
              "    .dataframe tbody tr th {\n",
              "        vertical-align: top;\n",
              "    }\n",
              "\n",
              "    .dataframe thead th {\n",
              "        text-align: right;\n",
              "    }\n",
              "</style>\n",
              "<table border=\"1\" class=\"dataframe\">\n",
              "  <thead>\n",
              "    <tr style=\"text-align: right;\">\n",
              "      <th></th>\n",
              "      <th>date</th>\n",
              "      <th>rate</th>\n",
              "      <th>date_MoM</th>\n",
              "      <th>rate_MoM</th>\n",
              "      <th>up_down</th>\n",
              "    </tr>\n",
              "  </thead>\n",
              "  <tbody>\n",
              "    <tr>\n",
              "      <th>0</th>\n",
              "      <td>2017-12-29</td>\n",
              "      <td>1.58</td>\n",
              "      <td>2017-11-29</td>\n",
              "      <td>1.26</td>\n",
              "      <td>up</td>\n",
              "    </tr>\n",
              "    <tr>\n",
              "      <th>1</th>\n",
              "      <td>2017-12-28</td>\n",
              "      <td>1.55</td>\n",
              "      <td>2017-11-28</td>\n",
              "      <td>1.26</td>\n",
              "      <td>up</td>\n",
              "    </tr>\n",
              "    <tr>\n",
              "      <th>2</th>\n",
              "      <td>2017-12-27</td>\n",
              "      <td>1.51</td>\n",
              "      <td>2017-11-27</td>\n",
              "      <td>1.26</td>\n",
              "      <td>up</td>\n",
              "    </tr>\n",
              "    <tr>\n",
              "      <th>3</th>\n",
              "      <td>2017-12-26</td>\n",
              "      <td>1.52</td>\n",
              "      <td>2017-11-26</td>\n",
              "      <td>1.25</td>\n",
              "      <td>up</td>\n",
              "    </tr>\n",
              "    <tr>\n",
              "      <th>4</th>\n",
              "      <td>2017-12-22</td>\n",
              "      <td>1.51</td>\n",
              "      <td>2017-11-22</td>\n",
              "      <td>1.24</td>\n",
              "      <td>up</td>\n",
              "    </tr>\n",
              "    <tr>\n",
              "      <th>...</th>\n",
              "      <td>...</td>\n",
              "      <td>...</td>\n",
              "      <td>...</td>\n",
              "      <td>...</td>\n",
              "      <td>...</td>\n",
              "    </tr>\n",
              "    <tr>\n",
              "      <th>3144</th>\n",
              "      <td>2005-05-09</td>\n",
              "      <td>3.29</td>\n",
              "      <td>2005-04-09</td>\n",
              "      <td>3.26</td>\n",
              "      <td>up</td>\n",
              "    </tr>\n",
              "    <tr>\n",
              "      <th>3145</th>\n",
              "      <td>2005-05-06</td>\n",
              "      <td>3.27</td>\n",
              "      <td>2005-04-06</td>\n",
              "      <td>3.23</td>\n",
              "      <td>up</td>\n",
              "    </tr>\n",
              "    <tr>\n",
              "      <th>3146</th>\n",
              "      <td>2005-05-04</td>\n",
              "      <td>3.21</td>\n",
              "      <td>2005-04-04</td>\n",
              "      <td>3.24</td>\n",
              "      <td>down</td>\n",
              "    </tr>\n",
              "    <tr>\n",
              "      <th>3147</th>\n",
              "      <td>2005-05-03</td>\n",
              "      <td>3.30</td>\n",
              "      <td>2005-04-03</td>\n",
              "      <td>3.25</td>\n",
              "      <td>up</td>\n",
              "    </tr>\n",
              "    <tr>\n",
              "      <th>3148</th>\n",
              "      <td>2005-05-02</td>\n",
              "      <td>3.29</td>\n",
              "      <td>2005-04-02</td>\n",
              "      <td>3.25</td>\n",
              "      <td>up</td>\n",
              "    </tr>\n",
              "  </tbody>\n",
              "</table>\n",
              "<p>3149 rows × 5 columns</p>\n",
              "</div>"
            ],
            "text/plain": [
              "           date  rate   date_MoM  rate_MoM up_down\n",
              "0    2017-12-29  1.58 2017-11-29      1.26      up\n",
              "1    2017-12-28  1.55 2017-11-28      1.26      up\n",
              "2    2017-12-27  1.51 2017-11-27      1.26      up\n",
              "3    2017-12-26  1.52 2017-11-26      1.25      up\n",
              "4    2017-12-22  1.51 2017-11-22      1.24      up\n",
              "...         ...   ...        ...       ...     ...\n",
              "3144 2005-05-09  3.29 2005-04-09      3.26      up\n",
              "3145 2005-05-06  3.27 2005-04-06      3.23      up\n",
              "3146 2005-05-04  3.21 2005-04-04      3.24    down\n",
              "3147 2005-05-03  3.30 2005-04-03      3.25      up\n",
              "3148 2005-05-02  3.29 2005-04-02      3.25      up\n",
              "\n",
              "[3149 rows x 5 columns]"
            ]
          },
          "metadata": {
            "tags": []
          },
          "execution_count": 563
        }
      ]
    },
    {
      "cell_type": "code",
      "metadata": {
        "id": "WCGLHkJi5Ej8",
        "colab_type": "code",
        "colab": {}
      },
      "source": [
        "# final_data.to_csv('./drive/My Drive/Colab Notebooks/NLP/프로젝트/final_data.csv', index=False)"
      ],
      "execution_count": null,
      "outputs": []
    },
    {
      "cell_type": "code",
      "metadata": {
        "id": "FJGaQAG55Gjr",
        "colab_type": "code",
        "colab": {}
      },
      "source": [
        ""
      ],
      "execution_count": null,
      "outputs": []
    }
  ]
}